{
  "nbformat": 4,
  "nbformat_minor": 0,
  "metadata": {
    "colab": {
      "name": "Transfer Learning.ipynb",
      "version": "0.3.2",
      "provenance": [],
      "collapsed_sections": []
    },
    "kernelspec": {
      "display_name": "Python 2",
      "name": "python2"
    },
    "accelerator": "GPU"
  },
  "cells": [
    {
      "cell_type": "code",
      "metadata": {
        "colab_type": "code",
        "id": "1xJZ5glPPCRz",
        "outputId": "27e9141e-270b-4f91-ee06-c534f26241d5",
        "colab": {
          "height": 259
        }
      },
      "source": [
        "import os\n",
        "\n",
        "from tensorflow.keras import layers\n",
        "from tensorflow.keras import Model\n",
        "!wget --no-check-certificate \\\n",
        "    https://storage.googleapis.com/mledu-datasets/inception_v3_weights_tf_dim_ordering_tf_kernels_notop.h5 \\\n",
        "    -O /tmp/inception_v3_weights_tf_dim_ordering_tf_kernels_notop.h5\n",
        "  \n",
        "from tensorflow.keras.applications.inception_v3 import InceptionV3\n",
        "\n",
        "local_weights_file = '/tmp/inception_v3_weights_tf_dim_ordering_tf_kernels_notop.h5'\n",
        "\n",
        "pre_trained_model = InceptionV3(input_shape = (150, 150, 3), \n",
        "                                include_top = False, \n",
        "                                weights = None)\n",
        "\n",
        "pre_trained_model.load_weights(local_weights_file)\n",
        "\n",
        "for layer in pre_trained_model.layers:\n",
        "  layer.trainable = False\n",
        "  \n",
        "# pre_trained_model.summary()\n",
        "\n",
        "last_layer = pre_trained_model.get_layer('mixed7')\n",
        "print('last layer output shape: ', last_layer.output_shape)\n",
        "last_output = last_layer.output"
      ],
      "execution_count": 0,
      "outputs": [
        {
          "output_type": "stream",
          "text": [
            "--2019-02-13 14:04:55--  https://storage.googleapis.com/mledu-datasets/inception_v3_weights_tf_dim_ordering_tf_kernels_notop.h5\r\n",
            "Resolving storage.googleapis.com... 2607:f8b0:4003:c05::80, 64.233.168.128\r\n",
            "Connecting to storage.googleapis.com|2607:f8b0:4003:c05::80|:443... connected.\r\n",
            "WARNING: cannot verify storage.googleapis.com's certificate, issued by 'CN=Google Internet Authority G3,O=Google Trust Services,C=US':\r\n",
            "  Unable to locally verify the issuer's authority.\n",
            "HTTP request sent, awaiting response... 200 OK\n",
            "Length: 87910968 (84M) [application/x-hdf]\n",
            "Saving to: '/tmp/inception_v3_weights_tf_dim_ordering_tf_kernels_notop.h5'\n",
            "\n",
            "/tmp/inception_v3_w 100%[=====================>]  83.84M  75.6MB/s   in 1.1s   \n",
            "\n",
            "2019-02-13 14:04:56 (75.6 MB/s) - '/tmp/inception_v3_weights_tf_dim_ordering_tf_kernels_notop.h5' saved [87910968/87910968]\n",
            "\n",
            "('last layer output shape: ', (None, 7, 7, 768))\n"
          ],
          "name": "stdout"
        }
      ]
    },
    {
      "cell_type": "code",
      "metadata": {
        "colab_type": "code",
        "id": "BMXb913pbvFg",
        "colab": {}
      },
      "source": [
        "from tensorflow.keras.optimizers import RMSprop\n",
        "\n",
        "# Flatten the output layer to 1 dimension\n",
        "x = layers.Flatten()(last_output)\n",
        "# Add a fully connected layer with 1,024 hidden units and ReLU activation\n",
        "x = layers.Dense(1024, activation='relu')(x)\n",
        "# Add a dropout rate of 0.2\n",
        "x = layers.Dropout(0.2)(x)                  \n",
        "# Add a final sigmoid layer for classification\n",
        "x = layers.Dense  (1, activation='sigmoid')(x)           \n",
        "\n",
        "model = Model( pre_trained_model.input, x) \n",
        "\n",
        "model.compile(optimizer = RMSprop(lr=0.0001), \n",
        "              loss = 'binary_crossentropy', \n",
        "              metrics = ['acc'])\n"
      ],
      "execution_count": 0,
      "outputs": []
    },
    {
      "cell_type": "code",
      "metadata": {
        "colab_type": "code",
        "id": "O4s8HckqGlnb",
        "outputId": "76893e93-b44b-41f2-a4f2-428ad05c537d",
        "colab": {
          "height": 276
        }
      },
      "source": [
        "!wget --no-check-certificate \\\n",
        "        https://storage.googleapis.com/mledu-datasets/cats_and_dogs_filtered.zip \\\n",
        "       -O /tmp/cats_and_dogs_filtered.zip\n",
        "\n",
        "from tensorflow.keras.preprocessing.image import ImageDataGenerator\n",
        "\n",
        "import os\n",
        "import zipfile\n",
        "\n",
        "local_zip = '//tmp/cats_and_dogs_filtered.zip'\n",
        "\n",
        "zip_ref = zipfile.ZipFile(local_zip, 'r')\n",
        "\n",
        "zip_ref.extractall('/tmp')\n",
        "zip_ref.close()\n",
        "\n",
        "# Define our example directories and files\n",
        "base_dir = '/tmp/cats_and_dogs_filtered'\n",
        "\n",
        "train_dir = os.path.join( base_dir, 'train')\n",
        "validation_dir = os.path.join( base_dir, 'validation')\n",
        "\n",
        "\n",
        "train_cats_dir = os.path.join(train_dir, 'cats') # Directory with our training cat pictures\n",
        "train_dogs_dir = os.path.join(train_dir, 'dogs') # Directory with our training dog pictures\n",
        "validation_cats_dir = os.path.join(validation_dir, 'cats') # Directory with our validation cat pictures\n",
        "validation_dogs_dir = os.path.join(validation_dir, 'dogs')# Directory with our validation dog pictures\n",
        "\n",
        "train_cat_fnames = os.listdir(train_cats_dir)\n",
        "train_dog_fnames = os.listdir(train_dogs_dir)\n",
        "\n",
        "# Add our data-augmentation parameters to ImageDataGenerator\n",
        "train_datagen = ImageDataGenerator(rescale = 1./255.,\n",
        "                                   rotation_range = 40,\n",
        "                                   width_shift_range = 0.2,\n",
        "                                   height_shift_range = 0.2,\n",
        "                                   shear_range = 0.2,\n",
        "                                   zoom_range = 0.2,\n",
        "                                   horizontal_flip = True)\n",
        "\n",
        "# Note that the validation data should not be augmented!\n",
        "test_datagen = ImageDataGenerator( rescale = 1.0/255. )\n",
        "\n",
        "# Flow training images in batches of 20 using train_datagen generator\n",
        "train_generator = train_datagen.flow_from_directory(train_dir,\n",
        "                                                    batch_size = 20,\n",
        "                                                    class_mode = 'binary', \n",
        "                                                    target_size = (150, 150))     \n",
        "\n",
        "# Flow validation images in batches of 20 using test_datagen generator\n",
        "validation_generator =  test_datagen.flow_from_directory( validation_dir,\n",
        "                                                          batch_size  = 20,\n",
        "                                                          class_mode  = 'binary', \n",
        "                                                          target_size = (150, 150))"
      ],
      "execution_count": 0,
      "outputs": [
        {
          "output_type": "stream",
          "text": [
            "--2019-02-13 14:05:24--  https://storage.googleapis.com/mledu-datasets/cats_and_dogs_filtered.zip\r\n",
            "Resolving storage.googleapis.com... 2607:f8b0:4003:c0a::80, 173.194.223.128\r\n",
            "Connecting to storage.googleapis.com|2607:f8b0:4003:c0a::80|:443... connected.\r\n",
            "WARNING: cannot verify storage.googleapis.com's certificate, issued by 'CN=Google Internet Authority G3,O=Google Trust Services,C=US':\r\n",
            "  Unable to locally verify the issuer's authority.\n",
            "HTTP request sent, awaiting response... 200 OK\n",
            "Length: 68606236 (65M) [application/zip]\n",
            "Saving to: '/tmp/cats_and_dogs_filtered.zip'\n",
            "\n",
            "/tmp/cats_and_dogs_ 100%[=====================>]  65.43M   168MB/s   in 0.4s   \n",
            "\n",
            "2019-02-13 14:05:24 (168 MB/s) - '/tmp/cats_and_dogs_filtered.zip' saved [68606236/68606236]\n",
            "\n",
            "Found 2000 images belonging to 2 classes.\n",
            "Found 1000 images belonging to 2 classes.\n"
          ],
          "name": "stdout"
        }
      ]
    },
    {
      "cell_type": "code",
      "metadata": {
        "colab_type": "code",
        "id": "Blhq2MAUeyGA",
        "outputId": "a1659af1-32c1-4503-8972-d47b77b5035d",
        "colab": {
          "height": 708
        }
      },
      "source": [
        "history = model.fit_generator(\n",
        "            train_generator,\n",
        "            validation_data = validation_generator,\n",
        "            steps_per_epoch = 100,\n",
        "            epochs = 20,\n",
        "            validation_steps = 50,\n",
        "            verbose = 2)"
      ],
      "execution_count": 0,
      "outputs": [
        {
          "output_type": "stream",
          "text": [
            "Epoch 1/20\n",
            "100/100 - 17s - loss: 0.5283 - acc: 0.7525 - val_loss: 0.3843 - val_acc: 0.8940\n",
            "Epoch 2/20\n",
            "100/100 - 14s - loss: 0.3678 - acc: 0.8340 - val_loss: 0.2040 - val_acc: 0.9480\n",
            "Epoch 3/20\n",
            "100/100 - 15s - loss: 0.3352 - acc: 0.8535 - val_loss: 0.3987 - val_acc: 0.9270\n",
            "Epoch 4/20\n",
            "100/100 - 15s - loss: 0.3432 - acc: 0.8550 - val_loss: 0.2987 - val_acc: 0.9440\n",
            "Epoch 5/20\n",
            "100/100 - 15s - loss: 0.3391 - acc: 0.8640 - val_loss: 0.3390 - val_acc: 0.9450\n",
            "Epoch 6/20\n",
            "100/100 - 14s - loss: 0.3135 - acc: 0.8680 - val_loss: 0.3465 - val_acc: 0.9480\n",
            "Epoch 7/20\n",
            "100/100 - 14s - loss: 0.3113 - acc: 0.8700 - val_loss: 0.3115 - val_acc: 0.9530\n",
            "Epoch 8/20\n",
            "100/100 - 15s - loss: 0.2901 - acc: 0.8820 - val_loss: 0.5042 - val_acc: 0.9370\n",
            "Epoch 9/20\n",
            "100/100 - 15s - loss: 0.2912 - acc: 0.8865 - val_loss: 0.3065 - val_acc: 0.9620\n",
            "Epoch 10/20\n",
            "100/100 - 15s - loss: 0.2944 - acc: 0.8760 - val_loss: 0.2641 - val_acc: 0.9640\n",
            "Epoch 11/20\n",
            "100/100 - 14s - loss: 0.2831 - acc: 0.8810 - val_loss: 0.4515 - val_acc: 0.9450\n",
            "Epoch 12/20\n",
            "100/100 - 15s - loss: 0.2682 - acc: 0.8895 - val_loss: 0.3231 - val_acc: 0.9580\n",
            "Epoch 13/20\n",
            "100/100 - 15s - loss: 0.2748 - acc: 0.8840 - val_loss: 0.2427 - val_acc: 0.9680\n",
            "Epoch 14/20\n",
            "100/100 - 15s - loss: 0.2669 - acc: 0.8945 - val_loss: 0.3075 - val_acc: 0.9630\n",
            "Epoch 15/20\n",
            "100/100 - 15s - loss: 0.2732 - acc: 0.8910 - val_loss: 0.2629 - val_acc: 0.9620\n",
            "Epoch 16/20\n",
            "100/100 - 14s - loss: 0.2634 - acc: 0.8940 - val_loss: 0.3864 - val_acc: 0.9570\n",
            "Epoch 17/20\n",
            "100/100 - 14s - loss: 0.2473 - acc: 0.9040 - val_loss: 0.2648 - val_acc: 0.9670\n",
            "Epoch 18/20\n",
            "100/100 - 15s - loss: 0.2767 - acc: 0.8890 - val_loss: 0.2519 - val_acc: 0.9620\n",
            "Epoch 19/20\n",
            "100/100 - 17s - loss: 0.2660 - acc: 0.8990 - val_loss: 0.2495 - val_acc: 0.9680\n",
            "Epoch 20/20\n",
            "100/100 - 15s - loss: 0.2535 - acc: 0.9020 - val_loss: 0.2682 - val_acc: 0.9670\n"
          ],
          "name": "stdout"
        }
      ]
    },
    {
      "cell_type": "code",
      "metadata": {
        "id": "C2Fp6Se9rKuL",
        "colab_type": "code",
        "outputId": "498822a1-4a8d-4840-cdb9-26366f754c41",
        "colab": {
          "height": 306
        }
      },
      "source": [
        "import matplotlib.pyplot as plt\n",
        "acc = history.history['acc']\n",
        "val_acc = history.history['val_acc']\n",
        "loss = history.history['loss']\n",
        "val_loss = history.history['val_loss']\n",
        "\n",
        "epochs = range(len(acc))\n",
        "\n",
        "plt.plot(epochs, acc, 'r', label='Training accuracy')\n",
        "plt.plot(epochs, val_acc, 'b', label='Validation accuracy')\n",
        "plt.title('Training and validation accuracy')\n",
        "plt.legend(loc=0)\n",
        "plt.figure()\n",
        "\n",
        "\n",
        "plt.show()"
      ],
      "execution_count": 0,
      "outputs": [
        {
          "output_type": "display_data",
          "data": {
            "image/png": "[encoded data removed]",
            "text/plain": [
              "<matplotlib.figure.Figure at 0x7ff264d46dd0>"
            ]
          },
          "metadata": {
            "tags": []
          }
        },
        {
          "output_type": "display_data",
          "data": {
            "text/plain": [
              "<matplotlib.figure.Figure at 0x7ff19c530b90>"
            ]
          },
          "metadata": {
            "tags": []
          }
        }
      ]
    }
  ]
}