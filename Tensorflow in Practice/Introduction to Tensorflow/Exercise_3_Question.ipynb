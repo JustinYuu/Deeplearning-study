{
  "nbformat": 4,
  "nbformat_minor": 0,
  "metadata": {
    "colab": {
      "name": "Exercise 3 - Question.ipynb",
      "version": "0.3.2",
      "provenance": [],
      "collapsed_sections": []
    },
    "kernelspec": {
      "name": "python3",
      "display_name": "Python 3"
    },
    "accelerator": "GPU"
  },
  "cells": [
    {
      "cell_type": "markdown",
      "metadata": {
        "id": "iQjHqsmTAVLU",
        "colab_type": "text"
      },
      "source": [
        "## Exercise 3\n",
        "In the videos you looked at how you would improve Fashion MNIST using Convolutions. For your exercise see if you can improve MNIST to 99.8% accuracy or more using only a single convolutional layer and a single MaxPooling 2D. You should stop training once the accuracy goes above this amount. It should happen in less than 20 epochs, so it's ok to hard code the number of epochs for training, but your training must end once it hits the above metric. If it doesn't, then you'll need to redesign your layers.\n",
        "\n",
        "I've started the code for you -- you need to finish it!\n",
        "\n",
        "When 99.8% accuracy has been hit, you should print out the string \"Reached 99.8% accuracy so cancelling training!\"\n"
      ]
    },
    {
      "cell_type": "code",
      "metadata": {
        "id": "sfQRyaJWAIdg",
        "colab_type": "code",
        "colab": {
          "base_uri": "https://localhost:8080/",
          "height": 403
        },
        "outputId": "82023abf-0f7c-45fe-db3c-eb96b1036210"
      },
      "source": [
        "import tensorflow as tf\n",
        "\n",
        "# YOUR CODE STARTS HERE\n",
        "class myCallback(tf.keras.callbacks.Callback):\n",
        "  def on_epoch_end(self,epoch,logs={}):\n",
        "    if(logs.get('acc')>0.998):\n",
        "      print(\"\\nReached 99.8% accuracy so cancelling training!\")\n",
        "      self.model.stop_training = True\n",
        "# YOUR CODE ENDS HERE\n",
        "\n",
        "mnist = tf.keras.datasets.mnist\n",
        "#(training_images, training_labels), (test_images, test_labels) = mnist.load_data()\n",
        "\n",
        "# YOUR CODE STARTS HERE\n",
        "(x_train,y_train),(x_test,y_test)=mnist.load_data()\n",
        "x_train = x_train.reshape(60000,28,28,1)\n",
        "x_test = x_test.reshape(10000,28,28,1)\n",
        "x_train,x_test = x_train/255.0 ,x_test/255.0\n",
        "callbacks = myCallback()\n",
        "# YOUR CODE ENDS HERE\n",
        "\n",
        "model = tf.keras.models.Sequential([\n",
        "    # YOUR CODE STARTS HERE\n",
        "tf.keras.layers.Conv2D(64,(3,3),activation='relu',input_shape=(28,28,1)),\n",
        "tf.keras.layers.MaxPooling2D(2,2),\n",
        "tf.keras.layers.Conv2D(64,(3,3),activation='relu'),\n",
        "tf.keras.layers.MaxPooling2D(2,2),\n",
        "tf.keras.layers.Flatten(),\n",
        "tf.keras.layers.Dense(128,activation='relu'),\n",
        "tf.keras.layers.Dense(10,activation='softmax')\n",
        "    # YOUR CODE ENDS HERE\n",
        "])\n",
        "\n",
        "# YOUR CODE STARTS HERE\n",
        "model.compile(optimizer='adam',loss = 'sparse_categorical_crossentropy',metrics=['accuracy'])\n",
        "model.fit(x_train,y_train,epochs=15,callbacks=[callbacks])\n",
        "test_loss = model.evaluate(x_test,y_test)\n",
        "# YOUR CODE ENDS HERE\n",
        "\n"
      ],
      "execution_count": 6,
      "outputs": [
        {
          "output_type": "stream",
          "text": [
            "Epoch 1/15\n",
            "60000/60000 [==============================] - 6s 103us/sample - loss: 0.1153 - acc: 0.9652\n",
            "Epoch 2/15\n",
            "60000/60000 [==============================] - 6s 100us/sample - loss: 0.0381 - acc: 0.9882\n",
            "Epoch 3/15\n",
            "60000/60000 [==============================] - 6s 100us/sample - loss: 0.0256 - acc: 0.9919\n",
            "Epoch 4/15\n",
            "60000/60000 [==============================] - 6s 99us/sample - loss: 0.0202 - acc: 0.9936\n",
            "Epoch 5/15\n",
            "60000/60000 [==============================] - 6s 98us/sample - loss: 0.0148 - acc: 0.9952\n",
            "Epoch 6/15\n",
            "60000/60000 [==============================] - 6s 98us/sample - loss: 0.0109 - acc: 0.9964\n",
            "Epoch 7/15\n",
            "60000/60000 [==============================] - 6s 97us/sample - loss: 0.0100 - acc: 0.9967\n",
            "Epoch 8/15\n",
            "60000/60000 [==============================] - 6s 98us/sample - loss: 0.0087 - acc: 0.9972\n",
            "Epoch 9/15\n",
            "60000/60000 [==============================] - 6s 99us/sample - loss: 0.0070 - acc: 0.9974\n",
            "Epoch 10/15\n",
            "59616/60000 [============================>.] - ETA: 0s - loss: 0.0058 - acc: 0.9982\n",
            "Reached 99.8% accuracy so cancelling training!\n",
            "60000/60000 [==============================] - 6s 98us/sample - loss: 0.0058 - acc: 0.9982\n",
            "10000/10000 [==============================] - 1s 55us/sample - loss: 0.0329 - acc: 0.9925\n"
          ],
          "name": "stdout"
        }
      ]
    },
    {
      "cell_type": "code",
      "metadata": {
        "id": "EmTgIpbdp4XZ",
        "colab_type": "code",
        "colab": {}
      },
      "source": [
        "  "
      ],
      "execution_count": 0,
      "outputs": []
    }
  ]
}